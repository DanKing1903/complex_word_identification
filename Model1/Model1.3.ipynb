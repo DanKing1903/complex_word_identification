{
 "cells": [
  {
   "cell_type": "markdown",
   "metadata": {},
   "source": [
    "# Imports"
   ]
  },
  {
   "cell_type": "code",
   "execution_count": 1,
   "metadata": {
    "collapsed": true
   },
   "outputs": [],
   "source": [
    "import pandas as pd\n",
    "import numpy as np\n",
    "import csv\n",
    "import nltk\n",
    "import sklearn\n",
    "import pyphen\n",
    "import random\n",
    "import time\n",
    "import string\n",
    "import itertools\n",
    "import time\n",
    "random.seed(42)"
   ]
  },
  {
   "cell_type": "markdown",
   "metadata": {},
   "source": [
    "# Scoring"
   ]
  },
  {
   "cell_type": "code",
   "execution_count": 2,
   "metadata": {
    "collapsed": true
   },
   "outputs": [],
   "source": [
    "def report_score(gold_labels, predicted_labels, detailed=False):\n",
    "    macro_F1 = sklearn.metrics.f1_score(gold_labels, predicted_labels, average='macro')\n",
    "    print(\"macro-F1: {:.2f}\".format(macro_F1))\n",
    "    if detailed:\n",
    "        scores = sklearn.metrics.precision_recall_fscore_support(gold_labels, predicted_labels)\n",
    "        print(\"{:^10}{:^10}{:^10}{:^10}{:^10}\".format(\"Label\", \"Precision\", \"Recall\", \"F1\", \"Support\"))\n",
    "        print('-' * 50)\n",
    "        print(\"{:^10}{:^10.2f}{:^10.2f}{:^10.2f}{:^10}\".format(0, scores[0][0], scores[1][0], scores[2][0], scores[3][0]))\n",
    "        print(\"{:^10}{:^10.2f}{:^10.2f}{:^10.2f}{:^10}\".format(1, scores[0][1], scores[1][1], scores[2][1], scores[3][1]))\n",
    "    print()\n",
    "    \n",
    "    \n",
    "def get_score(gold_labels, predicted_labels): \n",
    "    macro_F1 = sklearn.metrics.f1_score(gold_labels, predicted_labels, average='macro')\n",
    "    return macro_F1"
   ]
  },
  {
   "cell_type": "markdown",
   "metadata": {},
   "source": [
    "\n",
    "# DataSet"
   ]
  },
  {
   "cell_type": "code",
   "execution_count": 3,
   "metadata": {
    "collapsed": true
   },
   "outputs": [],
   "source": [
    "import pandas as pd\n",
    "class Dataset(object):\n",
    "\n",
    "    def __init__(self, language):\n",
    "        self.language = language\n",
    "\n",
    "        trainset_path = \"../datasets/{}/{}_Train.tsv\".format(language, language.capitalize())\n",
    "        devset_path = \"../datasets/{}/{}_Dev.tsv\".format(language, language.capitalize())\n",
    "\n",
    "        self.trainset = self.read_dataset(trainset_path)\n",
    "        self.devset = self.read_dataset(devset_path)\n",
    "\n",
    "    def read_dataset(self, file_path):\n",
    "        with open(file_path) as file:\n",
    "            fieldnames = ['hit_id', 'sentence', 'start_offset', 'end_offset', 'target_word', 'native_annots',\n",
    "                          'nonnative_annots', 'native_complex', 'nonnative_complex', 'gold_label', 'gold_prob']\n",
    "            \n",
    "            dataset = pd.read_csv(file, names = fieldnames, sep = \"\\t\")\n",
    "\n",
    "            #dataset = [sent for sent\n",
    "        return dataset"
   ]
  },
  {
   "cell_type": "markdown",
   "metadata": {},
   "source": [
    "# Custom Transformers"
   ]
  },
  {
   "cell_type": "code",
   "execution_count": 4,
   "metadata": {
    "collapsed": false
   },
   "outputs": [],
   "source": [
    "# adapted from \n",
    "# https://opendevincode.wordpress.com/2015/08/01/building-a-custom-python-scikit-learn-transformer-for-machine-learning/\n",
    "# and http://michelleful.github.io/code-blog/2015/06/20/pipelines/\n",
    "# http://scikit-learn.org/stable/auto_examples/hetero_feature_union.html#sphx-glr-auto-examples-hetero-feature-union-py\n",
    "\n",
    "from sklearn.base import BaseEstimator, TransformerMixin\n",
    "from sklearn.pipeline import Pipeline, FeatureUnion\n",
    "from nltk import pos_tag\n",
    "\n",
    "class Selector(BaseEstimator, TransformerMixin):\n",
    "    def __init__(self, key):\n",
    "        self.key = key\n",
    "    \n",
    "    def fit(self, X, *_):\n",
    "        return self\n",
    "    \n",
    "    def transform(self, df):\n",
    "        return df[self.key]\n",
    "\n",
    "\n",
    "class POS_Tagger(BaseEstimator, TransformerMixin):\n",
    "    def __init__(self):\n",
    "        pass\n",
    "    \n",
    "    def fit(self, X, *_):\n",
    "        return self\n",
    "    \n",
    "    def transform(self, X):\n",
    "        result = []\n",
    "        for word in X:\n",
    "            tag = pos_tag([word])[0][1]\n",
    "            tag_dict = {tag:1}\n",
    "            result.append(tag_dict)\n",
    "        return result\n",
    "\n",
    "\n",
    "class Affix_Extractor(BaseEstimator, TransformerMixin):\n",
    "    def __init__(self, affix_type):\n",
    "        self.affix_type = affix_type\n",
    "    \n",
    "    def transform(self, X, *_):\n",
    "        result = []\n",
    "        for word in X:\n",
    "            if self.affix_type == \"prefix\":\n",
    "                affix = word[:3]\n",
    "            elif self.affix_type == \"suffix\":\n",
    "                affix = word[-3:]\n",
    "                \n",
    "            row_dict = {affix:1}\n",
    "            result.append(row_dict)\n",
    "        return result\n",
    "            \n",
    "    def fit(self, *_):\n",
    "        return self\n",
    "\n",
    "\n",
    "class WordFeatureExtractor(BaseEstimator, TransformerMixin):\n",
    "    # here are my basic features:\n",
    "        # - len chars = word length\n",
    "        # - len tokens = phrase length\n",
    "        # - len uniq =  ratio of unique characters in word\n",
    "        # - len vowels = ratio of vowels in word\n",
    "        # - len const = ratio of constonants in word\n",
    "        # - len syl = number of syllables\n",
    "        \n",
    "        # - final baseline system uses tokens, uniq, and const based on feature analyis\n",
    "        \n",
    "    def __init__(self,language):\n",
    "        language = language\n",
    "        # from 'Multilingual and Cross-Lingual Complex Word Identification' (Yimam et. al, 2017)\n",
    "        if language == 'english':\n",
    "            self.avg_word_length = 5.3\n",
    "        else:  # spanish\n",
    "            self.avg_word_length = 6.2\n",
    "            \n",
    "        self.d = pyphen.Pyphen(lang='en')\n",
    "    \n",
    "    def transform(self, X, *_):\n",
    "        result = []\n",
    "        for word in X:\n",
    "            len_chars = len(word) / self.avg_word_length\n",
    "            len_tokens = len(word.split(' '))\n",
    "            len_uniq = len(set(word))/len(word)\n",
    "            len_vowels = len([letter for letter in word.split() if letter in set(\"aeiou\")])/len(word)\n",
    "            len_const = len([letter for letter in word.split() if letter not in set(\"aeiou\")])/len(word)\n",
    "            len_syl = len(self.d.inserted(word).split(\"-\"))\n",
    "\n",
    "            # dictionary to store the features in, in order to access later when testing individual features\n",
    "            row_dict = {\"chars\":len_chars,\"tokens\": len_tokens, \"unique\": len_uniq,\n",
    "                        \"vowels\": len_vowels, \"const\":len_const, \"syl\": len_syl,}\n",
    "\n",
    "            result.append(row_dict)\n",
    "        return result\n",
    "    \n",
    "    def fit(self, *_):\n",
    "        return self\n",
    "    "
   ]
  },
  {
   "cell_type": "markdown",
   "metadata": {},
   "source": [
    "# Model\n"
   ]
  },
  {
   "cell_type": "code",
   "execution_count": 24,
   "metadata": {
    "collapsed": false
   },
   "outputs": [],
   "source": [
    "from sklearn.feature_extraction.text import CountVectorizer, TfidfVectorizer\n",
    "from sklearn.linear_model import LogisticRegression\n",
    "from sklearn.preprocessing import OneHotEncoder, LabelEncoder, LabelBinarizer\n",
    "from sklearn.tree import DecisionTreeClassifier\n",
    "from sklearn.naive_bayes import GaussianNB\n",
    "from sklearn.svm import LinearSVC\n",
    "from sklearn.svm import SVC\n",
    "from sklearn.pipeline import make_pipeline\n",
    "from sklearn.feature_extraction import DictVectorizer\n",
    "from sklearn.decomposition import TruncatedSVD as PCA\n",
    "from sklearn.ensemble import RandomForestClassifier\n",
    "import scipy\n",
    "\n",
    "class DTC_Model(object):\n",
    "\n",
    "    def __init__(self, language):\n",
    "        self.language = language\n",
    "        # from 'Multilingual and Cross-Lingual Complex Word Identification' (Yimam et. al, 2017)\n",
    "        if language == 'english':\n",
    "            self.avg_word_length = 5.3\n",
    "            self.d = pyphen.Pyphen(lang='en')\n",
    "        else:  # spanish\n",
    "            self.avg_word_length = 6.2\n",
    "            self.d = pyphen.Pyphen(lang='es')\n",
    "            \n",
    "        \n",
    "        self.dv = DictVectorizer()\n",
    "        self.cv = CountVectorizer(ngram_range = (1,3))\n",
    "        #self.cv = TfidfVectorizer(ngram_range = (2,2))\n",
    "        #self.model = DecisionTreeClassifier(class_weight = \"balanced\", random_state=0)\n",
    "        \n",
    "        self.model = RandomForestClassifier( n_estimators = 25, random_state=0, class_weight=\"balanced\")\n",
    "        self.build_pipe()\n",
    "        \n",
    "    def build_pipe(self):\n",
    "        word_features = Pipeline([('select', Selector(key=\"target_word\"))] +\n",
    "            [( 'wfe', WordFeatureExtractor(self.language) )] +\n",
    "            [( 'dv', DictVectorizer() )])\n",
    "\n",
    "        Ngrams = Pipeline([('select', Selector(key = \"sentence\"))]+\n",
    "            [('cv', CountVectorizer())])\n",
    "        \n",
    "        suffix = Pipeline([('select', Selector(key='target_word'))]+\n",
    "                          [('suf',Affix_Extractor(affix_type = 'suffix'))]+\n",
    "                          [( 'dv', DictVectorizer())])\n",
    "        \n",
    "        prefix = Pipeline([('select', Selector(key='target_word'))]+\n",
    "                          [('suf',Affix_Extractor(affix_type = 'prefix'))]+\n",
    "                          [( 'dv', DictVectorizer())])\n",
    "        \n",
    "        char_ngrams = Pipeline([('select', Selector(key = 'target_word'))]+\n",
    "                              [('cv', CountVectorizer(analyzer = 'char_wb',ngram_range=(2, 3)))])       \n",
    "\n",
    "        \n",
    "        f_union = Pipeline([('union', FeatureUnion(transformer_list = [\n",
    "                            ('words', word_features),('ngrams', Ngrams),\n",
    "                            ('sffx', suffix), ('pffx', prefix),\n",
    "                            ('char', char_ngrams)]))])\n",
    "\n",
    "        \n",
    "        self.pipe = f_union\n",
    "        \n",
    "    def train(self, trainset, *args):\n",
    "        X = self.pipe.fit_transform(trainset)\n",
    "        y = trainset['gold_label']\n",
    "       \n",
    "        return self.model.fit(X, y)\n",
    "        \n",
    "    def test(self, testset, *args):\n",
    "        X = self.pipe.transform(testset)\n",
    "        return self.model.predict(X)\n",
    "    \n",
    "    def feature_importances(self):\n",
    "        return self.model.feature_importances_\n",
    "    "
   ]
  },
  {
   "cell_type": "code",
   "execution_count": null,
   "metadata": {
    "collapsed": true
   },
   "outputs": [],
   "source": []
  },
  {
   "cell_type": "code",
   "execution_count": 6,
   "metadata": {
    "collapsed": false
   },
   "outputs": [],
   "source": [
    "def run_model(language, *args):\n",
    "    data = Dataset(language)\n",
    "    print(\"{}: {} training - {} dev\".format(language, len(data.trainset), len(data.devset)))\n",
    "\n",
    "    model = DTC_Model(language)\n",
    "\n",
    "    model.train(data.trainset, *args)\n",
    "\n",
    "\n",
    "    predictions = model.test(data.devset, *args)\n",
    "    \n",
    "    gold_labels = data.devset['gold_label']\n",
    "\n",
    "    #gold_labels = [sent['gold_label'] for sent in data.devset]\n",
    "\n",
    "    report_score(gold_labels, predictions, detailed = True)\n",
    "    \n",
    "    #print(model.feature_importances())\n",
    "    \n",
    "    "
   ]
  },
  {
   "cell_type": "code",
   "execution_count": 86,
   "metadata": {
    "collapsed": false,
    "scrolled": false
   },
   "outputs": [
    {
     "name": "stdout",
     "output_type": "stream",
     "text": [
      "english: 27299 training - 3328 dev\n",
      "macro-F1: 0.81\n",
      "  Label   Precision   Recall      F1     Support  \n",
      "--------------------------------------------------\n",
      "    0        0.84      0.84      0.84      1940   \n",
      "    1        0.77      0.78      0.77      1388   \n",
      "\n",
      "spanish: 13750 training - 1622 dev\n",
      "macro-F1: 0.75\n",
      "  Label   Precision   Recall      F1     Support  \n",
      "--------------------------------------------------\n",
      "    0        0.76      0.89      0.82      969    \n",
      "    1        0.79      0.59      0.68      653    \n",
      "\n",
      "29.873422145843506\n"
     ]
    }
   ],
   "source": [
    "start = time.time()   \n",
    "\n",
    "run_model('english',)\n",
    "run_model('spanish',)\n",
    "\n",
    "fin = time.time()\n",
    "\n",
    "print(fin-start)"
   ]
  },
  {
   "cell_type": "markdown",
   "metadata": {},
   "source": [
    "# Learning Curves"
   ]
  },
  {
   "cell_type": "code",
   "execution_count": 8,
   "metadata": {
    "collapsed": false
   },
   "outputs": [
    {
     "name": "stdout",
     "output_type": "stream",
     "text": [
      "english: 27299 training - 3328 dev\n"
     ]
    }
   ],
   "source": [
    "#modified from http://scikit-learn.org/stable/auto_examples/model_selection/plot_learning_curve.html\n",
    "import matplotlib.pyplot as plt\n",
    "from sklearn.model_selection import learning_curve\n",
    "from sklearn.model_selection import ShuffleSplit\n",
    "\n",
    "\n",
    "def plot_learning_curve(estimator, title, X, y, ylim=None, cv=None,\n",
    "                        n_jobs=1, train_sizes=np.linspace(.1, 1.0, 5),):\n",
    "    \"\"\"\n",
    "    Generate a simple plot of the test and training learning curve.\n",
    "\n",
    "    Parameters\n",
    "    ----------\n",
    "    estimator : object type that implements the \"fit\" and \"predict\" methods\n",
    "        An object of that type which is cloned for each validation.\n",
    "\n",
    "    title : string\n",
    "        Title for the chart.\n",
    "\n",
    "    X : array-like, shape (n_samples, n_features)\n",
    "        Training vector, where n_samples is the number of samples and\n",
    "        n_features is the number of features.\n",
    "\n",
    "    y : array-like, shape (n_samples) or (n_samples, n_features), optional\n",
    "        Target relative to X for classification or regression;\n",
    "        None for unsupervised learning.\n",
    "\n",
    "    ylim : tuple, shape (ymin, ymax), optional\n",
    "        Defines minimum and maximum yvalues plotted.\n",
    "\n",
    "    cv : int, cross-validation generator or an iterable, optional\n",
    "        Determines the cross-validation splitting strategy.\n",
    "        Possible inputs for cv are:\n",
    "          - None, to use the default 3-fold cross-validation,\n",
    "          - integer, to specify the number of folds.\n",
    "          - An object to be used as a cross-validation generator.\n",
    "          - An iterable yielding train/test splits.\n",
    "\n",
    "        For integer/None inputs, if ``y`` is binary or multiclass,\n",
    "        :class:`StratifiedKFold` used. If the estimator is not a classifier\n",
    "        or if ``y`` is neither binary nor multiclass, :class:`KFold` is used.\n",
    "\n",
    "        Refer :ref:`User Guide <cross_validation>` for the various\n",
    "        cross-validators that can be used here.\n",
    "\n",
    "    n_jobs : integer, optional\n",
    "        Number of jobs to run in parallel (default 1).\n",
    "    \"\"\"\n",
    "    plt.figure()\n",
    "    plt.title(title)\n",
    "    if ylim is not None:\n",
    "        plt.ylim(*ylim)\n",
    "    plt.xlabel(\"Training examples\")\n",
    "    plt.ylabel(\"Score\")\n",
    "    train_sizes, train_scores, test_scores = learning_curve(\n",
    "        estimator, X, y, cv=cv, n_jobs=n_jobs, train_sizes=train_sizes)\n",
    "    train_scores_mean = np.mean(train_scores, axis=1)\n",
    "    train_scores_std = np.std(train_scores, axis=1)\n",
    "    test_scores_mean = np.mean(test_scores, axis=1)\n",
    "    test_scores_std = np.std(test_scores, axis=1)\n",
    "    plt.grid()\n",
    "\n",
    "    plt.fill_between(train_sizes, train_scores_mean - train_scores_std,\n",
    "                     train_scores_mean + train_scores_std, alpha=0.1,\n",
    "                     color=\"r\")\n",
    "    plt.fill_between(train_sizes, test_scores_mean - test_scores_std,\n",
    "                     test_scores_mean + test_scores_std, alpha=0.1, color=\"g\")\n",
    "    plt.plot(train_sizes, train_scores_mean, 'o-', color=\"r\",\n",
    "             label=\"Training score\")\n",
    "    plt.plot(train_sizes, test_scores_mean, 'o-', color=\"g\",\n",
    "             label=\"Cross-validation score\")\n",
    "\n",
    "    plt.legend(loc=\"best\")\n",
    "    plt.savefig(\"out.png\", bbox_inches = 'tight')\n",
    "    return plt\n",
    "\n",
    "language = 'english'\n",
    "data = Dataset(language)\n",
    "print(\"{}: {} training - {} dev\".format(language, len(data.trainset), len(data.devset)))\n",
    "\n",
    "model = DTC_Model(language)\n",
    "\n",
    "X = model.pipe.fit_transform(data.trainset)\n",
    "y = data.trainset['gold_label']\n",
    "\n",
    "\n",
    "title = \"Learning Curve of Decision Tree Classifier\"\n",
    "# Cross validation with 100 iterations to get smoother mean test and train\n",
    "# score curves, each time with 20% data randomly selected as a validation set.\n",
    "cv = ShuffleSplit(n_splits=10, test_size=0.2, random_state=0)\n",
    "\n",
    "estimator = model.model\n",
    "#plot_learning_curve(estimator, title, X, y, ylim=(0.5, 1.01), cv=cv, n_jobs=4)\n",
    "#plt.show()"
   ]
  },
  {
   "cell_type": "code",
   "execution_count": 107,
   "metadata": {
    "collapsed": false
   },
   "outputs": [
    {
     "data": {
      "text/plain": [
       "{'class_weight': 'balanced',\n",
       " 'criterion': 'gini',\n",
       " 'max_depth': None,\n",
       " 'max_features': None,\n",
       " 'max_leaf_nodes': None,\n",
       " 'min_impurity_decrease': 0.0,\n",
       " 'min_impurity_split': None,\n",
       " 'min_samples_leaf': 1,\n",
       " 'min_samples_split': 2,\n",
       " 'min_weight_fraction_leaf': 0.0,\n",
       " 'presort': False,\n",
       " 'random_state': 0,\n",
       " 'splitter': 'best'}"
      ]
     },
     "execution_count": 107,
     "metadata": {},
     "output_type": "execute_result"
    }
   ],
   "source": [
    "plt.show()\n",
    "estimator = DecisionTreeClassifier(class_weight = \"balanced\", random_state=0)\n",
    "tree = estimator.fit(X,y)\n",
    "tree.get_params()"
   ]
  },
  {
   "cell_type": "code",
   "execution_count": 109,
   "metadata": {
    "collapsed": false
   },
   "outputs": [
    {
     "data": {
      "text/plain": [
       "204"
      ]
     },
     "execution_count": 109,
     "metadata": {},
     "output_type": "execute_result"
    }
   ],
   "source": [
    "estimator.tree_.max_depth"
   ]
  },
  {
   "cell_type": "code",
   "execution_count": 130,
   "metadata": {
    "collapsed": false
   },
   "outputs": [],
   "source": [
    "from sklearn.model_selection import validation_curve\n",
    "\n",
    "estimator = DecisionTreeClassifier(class_weight = \"balanced\", random_state=0)\n",
    "indices = np.arange(y.shape[0])\n",
    "np.random.shuffle(indices)\n",
    "X, y = X[indices], y[indices]\n",
    "\n",
    "train_scores, valid_scores = validation_curve(estimator, X, y, \"max_depth\", np.array((10,50,100,150,200)), )"
   ]
  },
  {
   "cell_type": "code",
   "execution_count": 124,
   "metadata": {
    "collapsed": false
   },
   "outputs": [
    {
     "data": {
      "image/png": "[encoded data removed]",
      "text/plain": [
       "<Figure size 432x288 with 1 Axes>"
      ]
     },
     "metadata": {},
     "output_type": "display_data"
    }
   ],
   "source": [
    "depths = np.array((10,50,100,150,200))\n",
    "plt.figure()\n",
    "plt.title(\"Validation Curve of Tree Depth\")\n",
    "\n",
    "plt.xlabel(\"Tree Depth\")\n",
    "plt.ylabel(\"Score\")\n",
    "train_scores_mean = np.mean(train_scores, axis=1)\n",
    "train_scores_std = np.std(train_scores, axis=1)\n",
    "valid_scores_mean = np.mean(valid_scores, axis=1)\n",
    "valid_scores_std = np.std(valid_scores, axis=1)\n",
    "plt.grid()\n",
    "\n",
    "plt.fill_between(depths, valid_scores_mean - valid_scores_std,\n",
    "                 valid_scores_mean + valid_scores_std, alpha=0.1, color=\"g\")\n",
    "plt.plot(depths, train_scores_mean, 'o-', color=\"r\",\n",
    "         label=\"Training score\")\n",
    "plt.plot(depths, valid_scores_mean, 'o-', color=\"g\",\n",
    "         label=\"Cross-validation score\")\n",
    "\n",
    "plt.legend(loc=\"best\")\n",
    "plt.savefig(\"valid.png\", bbox_inches = 'tight')"
   ]
  },
  {
   "cell_type": "code",
   "execution_count": 132,
   "metadata": {
    "collapsed": false
   },
   "outputs": [
    {
     "data": {
      "image/png": "[encoded data removed]",
      "text/plain": [
       "<Figure size 432x288 with 1 Axes>"
      ]
     },
     "metadata": {},
     "output_type": "display_data"
    }
   ],
   "source": [
    "estimator = DecisionTreeClassifier(class_weight = \"balanced\", max_depth = 100, random_state=0)\n",
    "plot_learning_curve(estimator, title, X, y, ylim=(0.5, 1.01), cv=cv, n_jobs=4)\n",
    "plt.show()"
   ]
  },
  {
   "cell_type": "code",
   "execution_count": 137,
   "metadata": {
    "collapsed": false
   },
   "outputs": [
    {
     "name": "stdout",
     "output_type": "stream",
     "text": [
      "english: 27299 training - 3328 dev\n",
      "macro-F1: 0.76\n",
      "  Label   Precision   Recall      F1     Support  \n",
      "--------------------------------------------------\n",
      "    0        0.81      0.79      0.80      1940   \n",
      "    1        0.72      0.73      0.72      1388   \n",
      "\n",
      "spanish: 13750 training - 1622 dev\n",
      "macro-F1: 0.68\n",
      "  Label   Precision   Recall      F1     Support  \n",
      "--------------------------------------------------\n",
      "    0        0.75      0.72      0.73      969    \n",
      "    1        0.61      0.64      0.62      653    \n",
      "\n"
     ]
    }
   ],
   "source": [
    "for language in [\"english\", \"spanish\"]:\n",
    "    data = Dataset(language)\n",
    "    print(\"{}: {} training - {} dev\".format(language, len(data.trainset), len(data.devset)))\n",
    "\n",
    "    model = DTC_Model(language)\n",
    "    model.model = DecisionTreeClassifier(class_weight = \"balanced\", max_depth = 100, random_state=0)\n",
    "\n",
    "    model.train(data.trainset,)\n",
    "\n",
    "\n",
    "    predictions = model.test(data.devset,)\n",
    "    \n",
    "    gold_labels = data.devset['gold_label']\n",
    "\n",
    "    #gold_labels = [sent['gold_label'] for sent in data.devset]\n",
    "\n",
    "    report_score(gold_labels, predictions, detailed = True)"
   ]
  },
  {
   "cell_type": "code",
   "execution_count": 138,
   "metadata": {
    "collapsed": false
   },
   "outputs": [
    {
     "name": "stdout",
     "output_type": "stream",
     "text": [
      "english: 27299 training - 3328 dev\n",
      "macro-F1: 0.74\n",
      "  Label   Precision   Recall      F1     Support  \n",
      "--------------------------------------------------\n",
      "    0        0.77      0.82      0.79      1940   \n",
      "    1        0.72      0.66      0.69      1388   \n",
      "\n",
      "spanish: 13750 training - 1622 dev\n",
      "macro-F1: 0.66\n",
      "  Label   Precision   Recall      F1     Support  \n",
      "--------------------------------------------------\n",
      "    0        0.73      0.73      0.73      969    \n",
      "    1        0.60      0.59      0.60      653    \n",
      "\n"
     ]
    }
   ],
   "source": [
    "for language in [\"english\", \"spanish\"]:\n",
    "    data = Dataset(language)\n",
    "    print(\"{}: {} training - {} dev\".format(language, len(data.trainset), len(data.devset)))\n",
    "\n",
    "    model = DTC_Model(language)\n",
    "    model.model = DecisionTreeClassifier(class_weight = \"balanced\", max_depth = 100, max_features = 'auto', random_state=0)\n",
    "\n",
    "    model.train(data.trainset,)\n",
    "\n",
    "\n",
    "    predictions = model.test(data.devset,)\n",
    "    \n",
    "    gold_labels = data.devset['gold_label']\n",
    "\n",
    "    #gold_labels = [sent['gold_label'] for sent in data.devset]\n",
    "\n",
    "    report_score(gold_labels, predictions, detailed = True)"
   ]
  },
  {
   "cell_type": "code",
   "execution_count": 168,
   "metadata": {
    "collapsed": false
   },
   "outputs": [
    {
     "data": {
      "image/png": "[encoded data removed]",
      "text/plain": [
       "<Figure size 432x288 with 1 Axes>"
      ]
     },
     "metadata": {},
     "output_type": "display_data"
    }
   ],
   "source": [
    "estimator = DecisionTreeClassifier(class_weight = \"balanced\", max_depth = 100, max_features = 100, random_state=0)\n",
    "title = ('max depth = 100, max features = 100 ')\n",
    "plot_learning_curve(estimator, title, X, y,ylim=(0.5, 1.01), cv=cv, n_jobs=4)\n",
    "plt.show()"
   ]
  },
  {
   "cell_type": "code",
   "execution_count": 165,
   "metadata": {
    "collapsed": false,
    "scrolled": true
   },
   "outputs": [
    {
     "name": "stdout",
     "output_type": "stream",
     "text": [
      "english: 27299 training - 3328 dev\n",
      "macro-F1: 0.76\n",
      "  Label   Precision   Recall      F1     Support  \n",
      "--------------------------------------------------\n",
      "    0        0.80      0.79      0.79      1940   \n",
      "    1        0.71      0.72      0.72      1388   \n",
      "\n",
      "spanish: 13750 training - 1622 dev\n",
      "macro-F1: 0.70\n",
      "  Label   Precision   Recall      F1     Support  \n",
      "--------------------------------------------------\n",
      "    0        0.76      0.76      0.76      969    \n",
      "    1        0.65      0.64      0.64      653    \n",
      "\n"
     ]
    }
   ],
   "source": [
    "for language in [\"english\", \"spanish\"]:\n",
    "    data = Dataset(language)\n",
    "    print(\"{}: {} training - {} dev\".format(language, len(data.trainset), len(data.devset)))\n",
    "\n",
    "    model = DTC_Model(language)\n",
    "    model.model = estimator\n",
    "    model.train(data.trainset,)\n",
    "\n",
    "\n",
    "    predictions = model.test(data.devset,)\n",
    "    \n",
    "    gold_labels = data.devset['gold_label']\n",
    "\n",
    "    #gold_labels = [sent['gold_label'] for sent in data.devset]\n",
    "\n",
    "    report_score(gold_labels, predictions, detailed = True)"
   ]
  },
  {
   "cell_type": "code",
   "execution_count": 23,
   "metadata": {
    "collapsed": false
   },
   "outputs": [
    {
     "data": {
      "image/png": "[encoded data removed]",
      "text/plain": [
       "<Figure size 432x288 with 1 Axes>"
      ]
     },
     "metadata": {},
     "output_type": "display_data"
    }
   ],
   "source": [
    "estimator = RandomForestClassifier(n_estimators = 50, max_depth = 50, max_features = 100,random_state=0, class_weight=\"balanced\")\n",
    "title = ('50 estimators, max depth = 100, max features = 100 ')\n",
    "plot_learning_curve(estimator, title, X, y,ylim=(0.5, 1.01), cv=cv, n_jobs=4)\n",
    "plt.show()"
   ]
  },
  {
   "cell_type": "code",
   "execution_count": 21,
   "metadata": {
    "collapsed": false
   },
   "outputs": [
    {
     "name": "stdout",
     "output_type": "stream",
     "text": [
      "english: 27299 training - 3328 dev\n",
      "macro-F1: 0.80\n",
      "  Label   Precision   Recall      F1     Support  \n",
      "--------------------------------------------------\n",
      "    0        0.83      0.84      0.83      1940   \n",
      "    1        0.77      0.76      0.76      1388   \n",
      "\n",
      "spanish: 13750 training - 1622 dev\n",
      "macro-F1: 0.77\n",
      "  Label   Precision   Recall      F1     Support  \n",
      "--------------------------------------------------\n",
      "    0        0.78      0.91      0.84      969    \n",
      "    1        0.82      0.62      0.70      653    \n",
      "\n"
     ]
    }
   ],
   "source": [
    "for language in [\"english\", \"spanish\"]:\n",
    "    data = Dataset(language)\n",
    "    print(\"{}: {} training - {} dev\".format(language, len(data.trainset), len(data.devset)))\n",
    "\n",
    "    model = DTC_Model(language)\n",
    "    model.model = estimator\n",
    "    model.train(data.trainset,)\n",
    "\n",
    "\n",
    "    predictions = model.test(data.devset,)\n",
    "    \n",
    "    gold_labels = data.devset['gold_label']\n",
    "\n",
    "    #gold_labels = [sent['gold_label'] for sent in data.devset]\n",
    "\n",
    "    report_score(gold_labels, predictions, detailed = True)"
   ]
  },
  {
   "cell_type": "code",
   "execution_count": null,
   "metadata": {
    "collapsed": true
   },
   "outputs": [],
   "source": []
  }
 ],
 "metadata": {
  "kernelspec": {
   "display_name": "Python 3",
   "language": "python",
   "name": "python3"
  },
  "language_info": {
   "codemirror_mode": {
    "name": "ipython",
    "version": 3
   },
   "file_extension": ".py",
   "mimetype": "text/x-python",
   "name": "python",
   "nbconvert_exporter": "python",
   "pygments_lexer": "ipython3",
   "version": "3.6.3"
  }
 },
 "nbformat": 4,
 "nbformat_minor": 2
}
